{
  "nbformat": 4,
  "nbformat_minor": 0,
  "metadata": {
    "colab": {
      "provenance": []
    },
    "kernelspec": {
      "name": "python3",
      "display_name": "Python 3"
    },
    "language_info": {
      "name": "python"
    }
  },
  "cells": [
    {
      "cell_type": "code",
      "execution_count": 5,
      "metadata": {
        "colab": {
          "base_uri": "https://localhost:8080/"
        },
        "id": "T8SLAl3Z5prL",
        "outputId": "eabb21e6-260e-4d6a-a6fc-e2b4bb147e09"
      },
      "outputs": [
        {
          "output_type": "stream",
          "name": "stdout",
          "text": [
            "Requirement already satisfied: fairlearn in /usr/local/lib/python3.10/dist-packages (0.10.0)\n",
            "Requirement already satisfied: numpy>=1.24.4 in /usr/local/lib/python3.10/dist-packages (from fairlearn) (1.26.4)\n",
            "Requirement already satisfied: pandas>=2.0.3 in /usr/local/lib/python3.10/dist-packages (from fairlearn) (2.1.4)\n",
            "Requirement already satisfied: scikit-learn>=1.2.1 in /usr/local/lib/python3.10/dist-packages (from fairlearn) (1.3.2)\n",
            "Requirement already satisfied: scipy>=1.9.3 in /usr/local/lib/python3.10/dist-packages (from fairlearn) (1.13.1)\n",
            "Requirement already satisfied: python-dateutil>=2.8.2 in /usr/local/lib/python3.10/dist-packages (from pandas>=2.0.3->fairlearn) (2.8.2)\n",
            "Requirement already satisfied: pytz>=2020.1 in /usr/local/lib/python3.10/dist-packages (from pandas>=2.0.3->fairlearn) (2024.2)\n",
            "Requirement already satisfied: tzdata>=2022.1 in /usr/local/lib/python3.10/dist-packages (from pandas>=2.0.3->fairlearn) (2024.1)\n",
            "Requirement already satisfied: joblib>=1.1.1 in /usr/local/lib/python3.10/dist-packages (from scikit-learn>=1.2.1->fairlearn) (1.4.2)\n",
            "Requirement already satisfied: threadpoolctl>=2.0.0 in /usr/local/lib/python3.10/dist-packages (from scikit-learn>=1.2.1->fairlearn) (3.5.0)\n",
            "Requirement already satisfied: six>=1.5 in /usr/local/lib/python3.10/dist-packages (from python-dateutil>=2.8.2->pandas>=2.0.3->fairlearn) (1.16.0)\n"
          ]
        }
      ],
      "source": [
        "!pip install fairlearn"
      ]
    },
    {
      "cell_type": "markdown",
      "source": [
        "# Import The Necessary Libarary"
      ],
      "metadata": {
        "id": "8s1V_kWj5y1N"
      }
    },
    {
      "cell_type": "code",
      "source": [
        "import pandas as pd\n",
        "from sklearn.model_selection import train_test_split\n",
        "from sklearn.ensemble import RandomForestClassifier\n",
        "from sklearn.metrics import accuracy_score,confusion_matrix\n",
        "from fairlearn.reductions import GridSearch,DemographicParity"
      ],
      "metadata": {
        "id": "f2J9e-mi5xje"
      },
      "execution_count": 6,
      "outputs": []
    },
    {
      "cell_type": "code",
      "source": [],
      "metadata": {
        "id": "fglmciAM5-cl"
      },
      "execution_count": 6,
      "outputs": []
    },
    {
      "cell_type": "markdown",
      "source": [
        "# #Synthetic Movie Recommendation Dataset"
      ],
      "metadata": {
        "id": "dKJtzCdv6AUF"
      }
    },
    {
      "cell_type": "code",
      "source": [
        "# import pandas as pd\n",
        "# from sklearn.model_selection import train_test_split\n",
        "# from sklearn.ensemble import RandomForestClassifier\n",
        "# from sklearn.metrics import accuracy_score, confusion_matrix\n",
        "# from fairlearn.reductions import GridSearch, DemographicParity\n",
        "\n",
        "# Sample data\n",
        "data = {\n",
        "    'User ID': [1, 2, 3, 4, 5, 6, 7, 8, 9, 10],\n",
        "    'Age': [25, 30, 35, 22, 40, 25, 28, 32, 50, 27],\n",
        "    'Gender': ['M', 'F', 'M', 'F', 'M', 'M', 'F', 'M', 'F', 'M'],\n",
        "    'Liked Movie': [1, 0, 1, 0, 1, 1, 0, 1, 0, 1],\n",
        "}\n",
        "\n",
        "# Create DataFrame\n",
        "df = pd.DataFrame(data)\n",
        "\n",
        "# Data Preprocessing\n",
        "X = df[['Age']]\n",
        "y = df['Liked Movie']  # Fixed column name to match the DataFrame\n",
        "\n",
        "# Train-Test Split\n",
        "X_train, X_test, y_train, y_test = train_test_split(X, y, test_size=0.2, random_state=42)\n",
        "\n",
        "# Ensure sensitive features match the number of samples in X_train\n",
        "sensitive_features_train = df.loc[X_train.index]['Gender']\n",
        "\n",
        "# Train a Random Forest Classifier\n",
        "model = RandomForestClassifier(random_state=42)\n",
        "model.fit(X_train, y_train)\n",
        "\n",
        "# Model Evaluation\n",
        "y_pred = model.predict(X_test)\n",
        "print(\"Accuracy:\", accuracy_score(y_test, y_pred))\n",
        "print(\"Confusion Matrix:\\n\", confusion_matrix(y_test, y_pred))\n",
        "\n",
        "# Define a fairness constraint (Demographic Parity)\n",
        "fairness_constraint = DemographicParity()\n",
        "\n",
        "# Train a fair model using GridSearch with fairness constraints\n",
        "fair_model = GridSearch(estimator=model, constraints=fairness_constraint, grid_size=2)\n",
        "fair_model.fit(X_train, y_train, sensitive_features=sensitive_features_train)\n",
        "\n",
        "# Evaluate the fair model\n",
        "fair_y_pred = fair_model.predict(X_test)\n",
        "print(\"Fair Model Accuracy:\", accuracy_score(y_test, fair_y_pred))\n",
        "print(\"Fair Model Confusion Matrix:\\n\", confusion_matrix(y_test, fair_y_pred))\n"
      ],
      "metadata": {
        "colab": {
          "base_uri": "https://localhost:8080/"
        },
        "id": "QPmnGO8S6F7-",
        "outputId": "508ca7a6-5814-4720-f6d6-8ea8422786c2"
      },
      "execution_count": 7,
      "outputs": [
        {
          "output_type": "stream",
          "name": "stdout",
          "text": [
            "Accuracy: 0.5\n",
            "Confusion Matrix:\n",
            " [[1 1]\n",
            " [0 0]]\n",
            "Fair Model Accuracy: 0.5\n",
            "Fair Model Confusion Matrix:\n",
            " [[1 1]\n",
            " [0 0]]\n"
          ]
        }
      ]
    },
    {
      "cell_type": "code",
      "source": [
        "import pandas as pd\n",
        "from sklearn.model_selection import train_test_split\n",
        "from sklearn.ensemble import RandomForestClassifier\n",
        "from sklearn.metrics import accuracy_score, confusion_matrix\n",
        "from sklearn.preprocessing import OneHotEncoder, StandardScaler\n",
        "from sklearn.compose import ColumnTransformer\n",
        "from fairlearn.reductions import GridSearch, EqualizedOdds\n",
        "import numpy as np\n",
        "\n",
        "# Sample data\n",
        "data = {\n",
        "    'User ID': [1, 2, 3, 4, 5, 6, 7, 8, 9, 10],\n",
        "    'Age': [25, 30, 35, 22, 40, 25, 28, 32, 50, 27],\n",
        "    'Gender': ['M', 'F', 'M', 'F', 'M', 'M', 'F', 'M', 'F', 'M'],\n",
        "    'Liked Movie': [1, 0, 1, 0, 1, 1, 0, 1, 0, 1],\n",
        "}\n",
        "\n",
        "# Create DataFrame\n",
        "df = pd.DataFrame(data)\n",
        "\n",
        "# Data Preprocessing\n",
        "X = df[['Age', 'Gender']]  # Include both Age and Gender as features\n",
        "y = df['Liked Movie']\n",
        "\n",
        "# One-hot encode categorical variable 'Gender'\n",
        "preprocessor = ColumnTransformer(\n",
        "    transformers=[\n",
        "        ('num', StandardScaler(), ['Age']),    # Scale Age\n",
        "        ('cat', OneHotEncoder(), ['Gender'])   # One-hot encode Gender\n",
        "    ]\n",
        ")\n",
        "\n",
        "# Train-Test Split\n",
        "X_train, X_test, y_train, y_test = train_test_split(X, y, test_size=0.2, random_state=42)\n",
        "\n",
        "# Preprocess the data\n",
        "X_train_transformed = preprocessor.fit_transform(X_train)\n",
        "X_test_transformed = preprocessor.transform(X_test)\n",
        "\n",
        "# Train a Random Forest Classifier\n",
        "model = RandomForestClassifier(n_estimators=100, max_depth=5, random_state=42)\n",
        "model.fit(X_train_transformed, y_train)\n",
        "\n",
        "# Evaluate the model\n",
        "y_pred = model.predict(X_test_transformed)\n",
        "print(\"Improved Model Accuracy:\", accuracy_score(y_test, y_pred))\n",
        "print(\"Confusion Matrix:\\n\", confusion_matrix(y_test, y_pred))\n",
        "\n",
        "# Ensure sensitive features match the number of samples in X_train\n",
        "sensitive_features_train = df.loc[X_train.index]['Gender']\n",
        "\n",
        "# Define a fairness constraint (Equalized Odds - less strict than Demographic Parity)\n",
        "fairness_constraint = EqualizedOdds()\n",
        "\n",
        "# Train a fair model using GridSearch with fairness constraints (reduced grid size)\n",
        "fair_model = GridSearch(estimator=model, constraints=fairness_constraint, grid_size=2)\n",
        "fair_model.fit(X_train_transformed, y_train, sensitive_features=sensitive_features_train)\n",
        "\n",
        "# Evaluate the fair model\n",
        "fair_y_pred = fair_model.predict(X_test_transformed)\n",
        "print(\"Fair Model Accuracy:\", accuracy_score(y_test, fair_y_pred))\n",
        "print(\"Fair Model Confusion Matrix:\\n\", confusion_matrix(y_test, fair_y_pred))\n"
      ],
      "metadata": {
        "colab": {
          "base_uri": "https://localhost:8080/"
        },
        "id": "GVHUWY0g6Kv9",
        "outputId": "9bd22082-1e90-4512-945d-f2351827f2fa"
      },
      "execution_count": 8,
      "outputs": [
        {
          "output_type": "stream",
          "name": "stderr",
          "text": [
            "WARNING:fairlearn.reductions._grid_search._grid_generator:Generating a grid with 2 grid points. It is recommended to use at least 4 grid points. Please consider increasing grid_size.\n"
          ]
        },
        {
          "output_type": "stream",
          "name": "stdout",
          "text": [
            "Improved Model Accuracy: 1.0\n",
            "Confusion Matrix:\n",
            " [[2]]\n",
            "Fair Model Accuracy: 1.0\n",
            "Fair Model Confusion Matrix:\n",
            " [[2]]\n"
          ]
        }
      ]
    }
  ]
}