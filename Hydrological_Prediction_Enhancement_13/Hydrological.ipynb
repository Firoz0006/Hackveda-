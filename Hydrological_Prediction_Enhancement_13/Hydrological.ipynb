{
  "nbformat": 4,
  "nbformat_minor": 0,
  "metadata": {
    "colab": {
      "provenance": []
    },
    "kernelspec": {
      "name": "python3",
      "display_name": "Python 3"
    },
    "language_info": {
      "name": "python"
    }
  },
  "cells": [
    {
      "cell_type": "code",
      "execution_count": null,
      "metadata": {
        "colab": {
          "base_uri": "https://localhost:8080/"
        },
        "id": "KaDCv6kfK0mO",
        "outputId": "dd9196ac-5353-4b0c-a126-d69f09b1b9e2"
      },
      "outputs": [
        {
          "output_type": "stream",
          "name": "stdout",
          "text": [
            "Accuracy: 0.78\n",
            "Confusion Matrix:\n",
            "[[152   8]\n",
            " [ 36   4]]\n"
          ]
        }
      ],
      "source": [
        "# Import necessary libraries\n",
        "import numpy as np\n",
        "import pandas as pd\n",
        "from sklearn.model_selection import train_test_split\n",
        "from sklearn.ensemble import RandomForestClassifier\n",
        "from sklearn.metrics import accuracy_score, confusion_matrix\n",
        "\n",
        "# Generate Synthetic Dataset\n",
        "def generate_synthetic_data(num_samples):\n",
        "    np.random.seed(42)\n",
        "    rainfall = np.random.uniform(0, 100, num_samples)\n",
        "    atmospheric_pressure = np.random.uniform(800, 1200, num_samples)\n",
        "    soil_absorption = np.random.uniform(0, 1, num_samples)\n",
        "    runoff_volume = np.random.choice([0, 1], size=num_samples, p=[0.8, 0.2])\n",
        "\n",
        "    synthetic_data = pd.DataFrame({\n",
        "        'Rainfall': rainfall,\n",
        "        'Atmospheric_Pressure': atmospheric_pressure,\n",
        "        'Soil_Absorption': soil_absorption,\n",
        "        'Runoff_Volume': runoff_volume\n",
        "    })\n",
        "\n",
        "    return synthetic_data\n",
        "\n",
        "# Machine Learning Model\n",
        "def train_model(X_train, y_train):\n",
        "    model = RandomForestClassifier(random_state=42)\n",
        "    model.fit(X_train, y_train)\n",
        "    return model\n",
        "\n",
        "# Evaluate Model\n",
        "def evaluate_model(model, X_test, y_test):\n",
        "    predictions = model.predict(X_test)\n",
        "    accuracy = accuracy_score(y_test, predictions)\n",
        "    confusion_mat = confusion_matrix(y_test, predictions)\n",
        "\n",
        "    print(f'Accuracy: {accuracy}')\n",
        "    print(f'Confusion Matrix:\\n{confusion_mat}')\n",
        "\n",
        "# Main Function\n",
        "def main():\n",
        "    # Generate Synthetic Dataset with 1000 samples\n",
        "    synthetic_data = generate_synthetic_data(1000)\n",
        "\n",
        "    # Split the dataset into features (X) and target variable (y)\n",
        "    X = synthetic_data.drop('Runoff_Volume', axis=1)\n",
        "    y = synthetic_data['Runoff_Volume']\n",
        "\n",
        "    # Split the data into training and testing sets\n",
        "    X_train, X_test, y_train, y_test = train_test_split(X, y, test_size=0.2, random_state=42)\n",
        "\n",
        "    # Train the machine learning model\n",
        "    model = train_model(X_train, y_train)\n",
        "\n",
        "    # Evaluate the model\n",
        "    evaluate_model(model, X_test, y_test)\n",
        "\n",
        "# Run the main function\n",
        "if __name__ == \"__main__\":\n",
        "    main()\n"
      ]
    },
    {
      "cell_type": "code",
      "source": [
        "# Import necessary libraries\n",
        "import numpy as np\n",
        "import pandas as pd\n",
        "from sklearn.model_selection import train_test_split\n",
        "from sklearn.preprocessing import StandardScaler\n",
        "from sklearn.ensemble import GradientBoostingClassifier\n",
        "from sklearn.svm import SVC\n",
        "from sklearn.metrics import accuracy_score, confusion_matrix\n",
        "\n",
        "# Generate Synthetic Dataset\n",
        "def generate_synthetic_data(num_samples):\n",
        "    np.random.seed(42)\n",
        "    rainfall = np.random.uniform(0, 100, num_samples)\n",
        "    atmospheric_pressure = np.random.uniform(800, 1200, num_samples)\n",
        "    soil_absorption = np.random.uniform(0, 1, num_samples)\n",
        "    runoff_volume = np.random.choice([0, 1], size=num_samples, p=[0.8, 0.2])\n",
        "\n",
        "    synthetic_data = pd.DataFrame({\n",
        "        'Rainfall': rainfall,\n",
        "        'Atmospheric_Pressure': atmospheric_pressure,\n",
        "        'Soil_Absorption': soil_absorption,\n",
        "        'Runoff_Volume': runoff_volume\n",
        "    })\n",
        "\n",
        "    return synthetic_data\n",
        "\n",
        "# Machine Learning Models\n",
        "def train_gboost(X_train, y_train):\n",
        "    model = GradientBoostingClassifier(random_state=42)\n",
        "    model.fit(X_train, y_train)\n",
        "    return model\n",
        "\n",
        "def train_svm(X_train, y_train):\n",
        "    model = SVC(random_state=42)\n",
        "    model.fit(X_train, y_train)\n",
        "    return model\n",
        "\n",
        "# Evaluate Model\n",
        "def evaluate_model(model, X_test, y_test):\n",
        "    predictions = model.predict(X_test)\n",
        "    accuracy = accuracy_score(y_test, predictions)\n",
        "    confusion_mat = confusion_matrix(y_test, predictions)\n",
        "\n",
        "    print(f'Accuracy: {accuracy}')\n",
        "    print(f'Confusion Matrix:\\n{confusion_mat}')\n",
        "    return accuracy\n",
        "\n",
        "# Main Function\n",
        "def main():\n",
        "    # Generate Synthetic Dataset with 1000 samples\n",
        "    synthetic_data = generate_synthetic_data(1000)\n",
        "\n",
        "    # Split the dataset into features (X) and target variable (y)\n",
        "    X = synthetic_data.drop('Runoff_Volume', axis=1)\n",
        "    y = synthetic_data['Runoff_Volume']\n",
        "\n",
        "    # Split the data into training and testing sets\n",
        "    X_train, X_test, y_train, y_test = train_test_split(X, y, test_size=0.2, random_state=42)\n",
        "\n",
        "    # Feature Scaling (important for algorithms like SVM)\n",
        "    scaler = StandardScaler()\n",
        "    X_train_scaled = scaler.fit_transform(X_train)\n",
        "    X_test_scaled = scaler.transform(X_test)\n",
        "\n",
        "    # Train Gradient Boosting Classifier\n",
        "    print(\"Gradient Boosting Classifier:\")\n",
        "    gboost_model = train_gboost(X_train, y_train)\n",
        "    gboost_accuracy = evaluate_model(gboost_model, X_test, y_test)\n",
        "\n",
        "    # Train SVM Classifier\n",
        "    print(\"\\nSVM Classifier:\")\n",
        "    svm_model = train_svm(X_train_scaled, y_train)\n",
        "    svm_accuracy = evaluate_model(svm_model, X_test_scaled, y_test)\n",
        "\n",
        "    return gboost_accuracy, svm_accuracy\n",
        "\n",
        "# Run the main function\n",
        "main()\n"
      ],
      "metadata": {
        "colab": {
          "base_uri": "https://localhost:8080/"
        },
        "id": "e26_LB0QMwgJ",
        "outputId": "9e67cd9d-ad7a-4e86-eecf-cc95b845afd8"
      },
      "execution_count": null,
      "outputs": [
        {
          "output_type": "stream",
          "name": "stdout",
          "text": [
            "Gradient Boosting Classifier:\n",
            "Accuracy: 0.765\n",
            "Confusion Matrix:\n",
            "[[152   8]\n",
            " [ 39   1]]\n",
            "\n",
            "SVM Classifier:\n",
            "Accuracy: 0.8\n",
            "Confusion Matrix:\n",
            "[[160   0]\n",
            " [ 40   0]]\n"
          ]
        },
        {
          "output_type": "execute_result",
          "data": {
            "text/plain": [
              "(0.765, 0.8)"
            ]
          },
          "metadata": {},
          "execution_count": 2
        }
      ]
    }
  ]
}